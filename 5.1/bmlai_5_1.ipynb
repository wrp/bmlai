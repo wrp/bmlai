{
  "cells": [
    {
      "cell_type": "markdown",
      "metadata": {
        "id": "FR6eRHp7SJEF"
      },
      "source": [
        "### Will a Customer Accept the Coupon?\n",
        "\n",
        "**Context**\n",
        "\n",
        "Imagine driving through town and a coupon is delivered to your cell phone for a restaraunt near where you are driving. Would you accept that coupon and take a short detour to the restaraunt? Would you accept the coupon but use it on a sunbsequent trip? Would you ignore the coupon entirely? What if the coupon was for a bar instead of a restaraunt? What about a coffee house? Would you accept a bar coupon with a minor passenger in the car? What about if it was just you and your partner in the car? Would weather impact the rate of acceptance? What about the time of day?\n",
        "\n",
        "Obviously, proximity to the business is a factor on whether the coupon is delivered to the driver or not, but what are the factors that determine whether a driver accepts the coupon once it is delivered to them? How would you determine whether a driver is likely to accept a coupon?\n",
        "\n",
        "**Overview**\n",
        "\n",
        "The goal of this project is to use what you know about visualizations and probability distributions to distinguish between customers who accepted a driving coupon versus those that did not.\n",
        "\n",
        "**Data**\n",
        "\n",
        "This data comes to us from the UCI Machine Learning repository and was collected via a survey on Amazon Mechanical Turk. The survey describes different driving scenarios including the destination, current time, weather, passenger, etc., and then ask the person whether he will accept the coupon if he is the driver. Answers that the user will drive there ‘right away’ or ‘later before the coupon expires’ are labeled as ‘Y = 1’ and answers ‘no, I do not want the coupon’ are labeled as ‘Y = 0’.  There are five different types of coupons -- less expensive restaurants (under \\\\$20), coffee houses, carry out & take away, bar, and more expensive restaurants (\\\\$20 - \\\\$50). "
      ]
    },
    {
      "cell_type": "markdown",
      "metadata": {
        "id": "B9UtCKA_SJET"
      },
      "source": [
        "**Deliverables**\n",
        "\n",
        "Your final product should be a brief report that highlights the differences between customers who did and did not accept the coupons.  To explore the data you will utilize your knowledge of plotting, statistical summaries, and visualization using Python. You will publish your findings in a public facing github repository as your first portfolio piece. \n",
        "\n",
        "\n",
        "\n"
      ]
    },
    {
      "cell_type": "markdown",
      "metadata": {
        "id": "JSjxBKXkSJEY"
      },
      "source": [
        "### Data Description\n",
        "Keep in mind that these values mentioned below are average values.\n",
        "\n",
        "The attributes of this data set include:\n",
        "1. User attributes\n",
        "    -  Gender: male, female\n",
        "    -  Age: below 21, 21 to 25, 26 to 30, etc.\n",
        "    -  Marital Status: single, married partner, unmarried partner, or widowed\n",
        "    -  Number of children: 0, 1, or more than 1\n",
        "    -  Education: high school, bachelors degree, associates degree, or graduate degree\n",
        "    -  Occupation: architecture & engineering, business & financial, etc.\n",
        "    -  Annual income: less than \\\\$12500, \\\\$12500 - \\\\$24999, \\\\$25000 - \\\\$37499, etc.\n",
        "    -  Number of times that he/she goes to a bar: 0, less than 1, 1 to 3, 4 to 8 or greater than 8\n",
        "    -  Number of times that he/she buys takeaway food: 0, less than 1, 1 to 3, 4 to 8 or greater\n",
        "    than 8\n",
        "    -  Number of times that he/she goes to a coffee house: 0, less than 1, 1 to 3, 4 to 8 or\n",
        "    greater than 8\n",
        "    -  Number of times that he/she eats at a restaurant with average expense less than \\\\$20 per\n",
        "    person: 0, less than 1, 1 to 3, 4 to 8 or greater than 8\n",
        "    -  Number of times that he/she goes to a bar: 0, less than 1, 1 to 3, 4 to 8 or greater than 8\n",
        "    \n",
        "\n",
        "2. Contextual attributes\n",
        "    - Driving destination: home, work, or no urgent destination\n",
        "    - Location of user, coupon and destination: we provide a map to show the geographical\n",
        "    location of the user, destination, and the venue, and we mark the distance between each\n",
        "    two places with time of driving. The user can see whether the venue is in the same\n",
        "    direction as the destination.\n",
        "    - Weather: sunny, rainy, or snowy\n",
        "    - Temperature: 30F, 55F, or 80F\n",
        "    - Time: 10AM, 2PM, or 6PM\n",
        "    - Passenger: alone, partner, kid(s), or friend(s)\n",
        "\n",
        "\n",
        "3. Coupon attributes\n",
        "    - time before it expires: 2 hours or one day"
      ]
    },
    {
      "cell_type": "code",
      "execution_count": null,
      "metadata": {
        "id": "9sFd6UYwSJEe"
      },
      "outputs": [],
      "source": [
        "import matplotlib.pyplot as plt\n",
        "import seaborn as sns\n",
        "import pandas as pd\n",
        "import numpy as np\n"
      ]
    },
    {
      "cell_type": "markdown",
      "metadata": {
        "id": "l2pzHuY4SJEl"
      },
      "source": [
        "### Problems\n",
        "\n",
        "Use the prompts below to get started with your data analysis.  \n",
        "\n",
        "1. Read in the `coupons.csv` file.\n",
        "\n",
        "\n"
      ]
    },
    {
      "cell_type": "code",
      "execution_count": null,
      "metadata": {
        "id": "838ueuzySJEp"
      },
      "outputs": [],
      "source": [
        "data = pd.read_csv('https://github.com/wrp/bmlai/blob/a99edb39c8d675a13dee1fab1c2076f7b79c6796/5.1/data/coupons.csv?raw=true')"
      ]
    },
    {
      "cell_type": "code",
      "execution_count": null,
      "metadata": {
        "colab": {
          "base_uri": "https://localhost:8080/",
          "height": 595
        },
        "id": "ji4DGdy4SJEt",
        "outputId": "d9423a3f-81c5-4fa8-8392-e3fa38511cd6"
      },
      "outputs": [
        {
          "output_type": "execute_result",
          "data": {
            "text/plain": [
              "           destination  passanger weather  temperature  time  \\\n",
              "6829   No Urgent Place     Kid(s)   Sunny           80  10AM   \n",
              "8893   No Urgent Place      Alone   Rainy           55  10AM   \n",
              "699    No Urgent Place      Alone   Sunny           55   2PM   \n",
              "4261   No Urgent Place      Alone   Sunny           80  10AM   \n",
              "11315             Home    Partner   Sunny           30   6PM   \n",
              "3964   No Urgent Place  Friend(s)   Sunny           55   2PM   \n",
              "6426              Work      Alone   Sunny           80   7AM   \n",
              "7114   No Urgent Place  Friend(s)   Snowy           30  10PM   \n",
              "7900              Work      Alone   Rainy           55   7AM   \n",
              "6340              Work      Alone   Sunny           80   7AM   \n",
              "\n",
              "                      coupon expiration  gender age      maritalStatus  ...  \\\n",
              "6829            Coffee House         2h    Male  26    Married partner  ...   \n",
              "8893            Coffee House         1d    Male  26  Unmarried partner  ...   \n",
              "699          Restaurant(<20)         1d    Male  36  Unmarried partner  ...   \n",
              "4261                     Bar         1d  Female  26             Single  ...   \n",
              "11315        Restaurant(<20)         1d    Male  36  Unmarried partner  ...   \n",
              "3964            Coffee House         2h  Female  21             Single  ...   \n",
              "6426   Carry out & Take away         1d    Male  26    Married partner  ...   \n",
              "7114   Carry out & Take away         1d    Male  31    Married partner  ...   \n",
              "7900         Restaurant(<20)         2h    Male  26    Married partner  ...   \n",
              "6340            Coffee House         2h  Female  36           Divorced  ...   \n",
              "\n",
              "       CoffeeHouse CarryAway RestaurantLessThan20 Restaurant20To50  \\\n",
              "6829         less1     less1                  1~3            less1   \n",
              "8893         less1       4~8                  1~3            less1   \n",
              "699          never       4~8                  gt8            less1   \n",
              "4261         never       4~8                  1~3            less1   \n",
              "11315          1~3       gt8                  gt8              1~3   \n",
              "3964           1~3       gt8                  1~3              1~3   \n",
              "6426           gt8       4~8                  gt8              1~3   \n",
              "7114         less1       4~8                  4~8            less1   \n",
              "7900           gt8       4~8                  4~8            less1   \n",
              "6340           gt8       gt8                  gt8              1~3   \n",
              "\n",
              "      toCoupon_GEQ5min toCoupon_GEQ15min toCoupon_GEQ25min direction_same  \\\n",
              "6829                 1                 0                 0              0   \n",
              "8893                 1                 1                 0              0   \n",
              "699                  1                 0                 0              0   \n",
              "4261                 1                 0                 0              0   \n",
              "11315                1                 1                 1              0   \n",
              "3964                 1                 0                 0              0   \n",
              "6426                 1                 1                 1              0   \n",
              "7114                 1                 1                 0              0   \n",
              "7900                 1                 1                 1              0   \n",
              "6340                 1                 1                 0              1   \n",
              "\n",
              "      direction_opp  Y  \n",
              "6829              1  1  \n",
              "8893              1  1  \n",
              "699               1  1  \n",
              "4261              1  1  \n",
              "11315             1  1  \n",
              "3964              1  1  \n",
              "6426              1  1  \n",
              "7114              1  1  \n",
              "7900              1  0  \n",
              "6340              0  0  \n",
              "\n",
              "[10 rows x 26 columns]"
            ],
            "text/html": [
              "\n",
              "  <div id=\"df-e1841f7f-cced-4697-82f0-efe872a6d045\">\n",
              "    <div class=\"colab-df-container\">\n",
              "      <div>\n",
              "<style scoped>\n",
              "    .dataframe tbody tr th:only-of-type {\n",
              "        vertical-align: middle;\n",
              "    }\n",
              "\n",
              "    .dataframe tbody tr th {\n",
              "        vertical-align: top;\n",
              "    }\n",
              "\n",
              "    .dataframe thead th {\n",
              "        text-align: right;\n",
              "    }\n",
              "</style>\n",
              "<table border=\"1\" class=\"dataframe\">\n",
              "  <thead>\n",
              "    <tr style=\"text-align: right;\">\n",
              "      <th></th>\n",
              "      <th>destination</th>\n",
              "      <th>passanger</th>\n",
              "      <th>weather</th>\n",
              "      <th>temperature</th>\n",
              "      <th>time</th>\n",
              "      <th>coupon</th>\n",
              "      <th>expiration</th>\n",
              "      <th>gender</th>\n",
              "      <th>age</th>\n",
              "      <th>maritalStatus</th>\n",
              "      <th>...</th>\n",
              "      <th>CoffeeHouse</th>\n",
              "      <th>CarryAway</th>\n",
              "      <th>RestaurantLessThan20</th>\n",
              "      <th>Restaurant20To50</th>\n",
              "      <th>toCoupon_GEQ5min</th>\n",
              "      <th>toCoupon_GEQ15min</th>\n",
              "      <th>toCoupon_GEQ25min</th>\n",
              "      <th>direction_same</th>\n",
              "      <th>direction_opp</th>\n",
              "      <th>Y</th>\n",
              "    </tr>\n",
              "  </thead>\n",
              "  <tbody>\n",
              "    <tr>\n",
              "      <th>6829</th>\n",
              "      <td>No Urgent Place</td>\n",
              "      <td>Kid(s)</td>\n",
              "      <td>Sunny</td>\n",
              "      <td>80</td>\n",
              "      <td>10AM</td>\n",
              "      <td>Coffee House</td>\n",
              "      <td>2h</td>\n",
              "      <td>Male</td>\n",
              "      <td>26</td>\n",
              "      <td>Married partner</td>\n",
              "      <td>...</td>\n",
              "      <td>less1</td>\n",
              "      <td>less1</td>\n",
              "      <td>1~3</td>\n",
              "      <td>less1</td>\n",
              "      <td>1</td>\n",
              "      <td>0</td>\n",
              "      <td>0</td>\n",
              "      <td>0</td>\n",
              "      <td>1</td>\n",
              "      <td>1</td>\n",
              "    </tr>\n",
              "    <tr>\n",
              "      <th>8893</th>\n",
              "      <td>No Urgent Place</td>\n",
              "      <td>Alone</td>\n",
              "      <td>Rainy</td>\n",
              "      <td>55</td>\n",
              "      <td>10AM</td>\n",
              "      <td>Coffee House</td>\n",
              "      <td>1d</td>\n",
              "      <td>Male</td>\n",
              "      <td>26</td>\n",
              "      <td>Unmarried partner</td>\n",
              "      <td>...</td>\n",
              "      <td>less1</td>\n",
              "      <td>4~8</td>\n",
              "      <td>1~3</td>\n",
              "      <td>less1</td>\n",
              "      <td>1</td>\n",
              "      <td>1</td>\n",
              "      <td>0</td>\n",
              "      <td>0</td>\n",
              "      <td>1</td>\n",
              "      <td>1</td>\n",
              "    </tr>\n",
              "    <tr>\n",
              "      <th>699</th>\n",
              "      <td>No Urgent Place</td>\n",
              "      <td>Alone</td>\n",
              "      <td>Sunny</td>\n",
              "      <td>55</td>\n",
              "      <td>2PM</td>\n",
              "      <td>Restaurant(&lt;20)</td>\n",
              "      <td>1d</td>\n",
              "      <td>Male</td>\n",
              "      <td>36</td>\n",
              "      <td>Unmarried partner</td>\n",
              "      <td>...</td>\n",
              "      <td>never</td>\n",
              "      <td>4~8</td>\n",
              "      <td>gt8</td>\n",
              "      <td>less1</td>\n",
              "      <td>1</td>\n",
              "      <td>0</td>\n",
              "      <td>0</td>\n",
              "      <td>0</td>\n",
              "      <td>1</td>\n",
              "      <td>1</td>\n",
              "    </tr>\n",
              "    <tr>\n",
              "      <th>4261</th>\n",
              "      <td>No Urgent Place</td>\n",
              "      <td>Alone</td>\n",
              "      <td>Sunny</td>\n",
              "      <td>80</td>\n",
              "      <td>10AM</td>\n",
              "      <td>Bar</td>\n",
              "      <td>1d</td>\n",
              "      <td>Female</td>\n",
              "      <td>26</td>\n",
              "      <td>Single</td>\n",
              "      <td>...</td>\n",
              "      <td>never</td>\n",
              "      <td>4~8</td>\n",
              "      <td>1~3</td>\n",
              "      <td>less1</td>\n",
              "      <td>1</td>\n",
              "      <td>0</td>\n",
              "      <td>0</td>\n",
              "      <td>0</td>\n",
              "      <td>1</td>\n",
              "      <td>1</td>\n",
              "    </tr>\n",
              "    <tr>\n",
              "      <th>11315</th>\n",
              "      <td>Home</td>\n",
              "      <td>Partner</td>\n",
              "      <td>Sunny</td>\n",
              "      <td>30</td>\n",
              "      <td>6PM</td>\n",
              "      <td>Restaurant(&lt;20)</td>\n",
              "      <td>1d</td>\n",
              "      <td>Male</td>\n",
              "      <td>36</td>\n",
              "      <td>Unmarried partner</td>\n",
              "      <td>...</td>\n",
              "      <td>1~3</td>\n",
              "      <td>gt8</td>\n",
              "      <td>gt8</td>\n",
              "      <td>1~3</td>\n",
              "      <td>1</td>\n",
              "      <td>1</td>\n",
              "      <td>1</td>\n",
              "      <td>0</td>\n",
              "      <td>1</td>\n",
              "      <td>1</td>\n",
              "    </tr>\n",
              "    <tr>\n",
              "      <th>3964</th>\n",
              "      <td>No Urgent Place</td>\n",
              "      <td>Friend(s)</td>\n",
              "      <td>Sunny</td>\n",
              "      <td>55</td>\n",
              "      <td>2PM</td>\n",
              "      <td>Coffee House</td>\n",
              "      <td>2h</td>\n",
              "      <td>Female</td>\n",
              "      <td>21</td>\n",
              "      <td>Single</td>\n",
              "      <td>...</td>\n",
              "      <td>1~3</td>\n",
              "      <td>gt8</td>\n",
              "      <td>1~3</td>\n",
              "      <td>1~3</td>\n",
              "      <td>1</td>\n",
              "      <td>0</td>\n",
              "      <td>0</td>\n",
              "      <td>0</td>\n",
              "      <td>1</td>\n",
              "      <td>1</td>\n",
              "    </tr>\n",
              "    <tr>\n",
              "      <th>6426</th>\n",
              "      <td>Work</td>\n",
              "      <td>Alone</td>\n",
              "      <td>Sunny</td>\n",
              "      <td>80</td>\n",
              "      <td>7AM</td>\n",
              "      <td>Carry out &amp; Take away</td>\n",
              "      <td>1d</td>\n",
              "      <td>Male</td>\n",
              "      <td>26</td>\n",
              "      <td>Married partner</td>\n",
              "      <td>...</td>\n",
              "      <td>gt8</td>\n",
              "      <td>4~8</td>\n",
              "      <td>gt8</td>\n",
              "      <td>1~3</td>\n",
              "      <td>1</td>\n",
              "      <td>1</td>\n",
              "      <td>1</td>\n",
              "      <td>0</td>\n",
              "      <td>1</td>\n",
              "      <td>1</td>\n",
              "    </tr>\n",
              "    <tr>\n",
              "      <th>7114</th>\n",
              "      <td>No Urgent Place</td>\n",
              "      <td>Friend(s)</td>\n",
              "      <td>Snowy</td>\n",
              "      <td>30</td>\n",
              "      <td>10PM</td>\n",
              "      <td>Carry out &amp; Take away</td>\n",
              "      <td>1d</td>\n",
              "      <td>Male</td>\n",
              "      <td>31</td>\n",
              "      <td>Married partner</td>\n",
              "      <td>...</td>\n",
              "      <td>less1</td>\n",
              "      <td>4~8</td>\n",
              "      <td>4~8</td>\n",
              "      <td>less1</td>\n",
              "      <td>1</td>\n",
              "      <td>1</td>\n",
              "      <td>0</td>\n",
              "      <td>0</td>\n",
              "      <td>1</td>\n",
              "      <td>1</td>\n",
              "    </tr>\n",
              "    <tr>\n",
              "      <th>7900</th>\n",
              "      <td>Work</td>\n",
              "      <td>Alone</td>\n",
              "      <td>Rainy</td>\n",
              "      <td>55</td>\n",
              "      <td>7AM</td>\n",
              "      <td>Restaurant(&lt;20)</td>\n",
              "      <td>2h</td>\n",
              "      <td>Male</td>\n",
              "      <td>26</td>\n",
              "      <td>Married partner</td>\n",
              "      <td>...</td>\n",
              "      <td>gt8</td>\n",
              "      <td>4~8</td>\n",
              "      <td>4~8</td>\n",
              "      <td>less1</td>\n",
              "      <td>1</td>\n",
              "      <td>1</td>\n",
              "      <td>1</td>\n",
              "      <td>0</td>\n",
              "      <td>1</td>\n",
              "      <td>0</td>\n",
              "    </tr>\n",
              "    <tr>\n",
              "      <th>6340</th>\n",
              "      <td>Work</td>\n",
              "      <td>Alone</td>\n",
              "      <td>Sunny</td>\n",
              "      <td>80</td>\n",
              "      <td>7AM</td>\n",
              "      <td>Coffee House</td>\n",
              "      <td>2h</td>\n",
              "      <td>Female</td>\n",
              "      <td>36</td>\n",
              "      <td>Divorced</td>\n",
              "      <td>...</td>\n",
              "      <td>gt8</td>\n",
              "      <td>gt8</td>\n",
              "      <td>gt8</td>\n",
              "      <td>1~3</td>\n",
              "      <td>1</td>\n",
              "      <td>1</td>\n",
              "      <td>0</td>\n",
              "      <td>1</td>\n",
              "      <td>0</td>\n",
              "      <td>0</td>\n",
              "    </tr>\n",
              "  </tbody>\n",
              "</table>\n",
              "<p>10 rows × 26 columns</p>\n",
              "</div>\n",
              "      <button class=\"colab-df-convert\" onclick=\"convertToInteractive('df-e1841f7f-cced-4697-82f0-efe872a6d045')\"\n",
              "              title=\"Convert this dataframe to an interactive table.\"\n",
              "              style=\"display:none;\">\n",
              "        \n",
              "  <svg xmlns=\"http://www.w3.org/2000/svg\" height=\"24px\"viewBox=\"0 0 24 24\"\n",
              "       width=\"24px\">\n",
              "    <path d=\"M0 0h24v24H0V0z\" fill=\"none\"/>\n",
              "    <path d=\"M18.56 5.44l.94 2.06.94-2.06 2.06-.94-2.06-.94-.94-2.06-.94 2.06-2.06.94zm-11 1L8.5 8.5l.94-2.06 2.06-.94-2.06-.94L8.5 2.5l-.94 2.06-2.06.94zm10 10l.94 2.06.94-2.06 2.06-.94-2.06-.94-.94-2.06-.94 2.06-2.06.94z\"/><path d=\"M17.41 7.96l-1.37-1.37c-.4-.4-.92-.59-1.43-.59-.52 0-1.04.2-1.43.59L10.3 9.45l-7.72 7.72c-.78.78-.78 2.05 0 2.83L4 21.41c.39.39.9.59 1.41.59.51 0 1.02-.2 1.41-.59l7.78-7.78 2.81-2.81c.8-.78.8-2.07 0-2.86zM5.41 20L4 18.59l7.72-7.72 1.47 1.35L5.41 20z\"/>\n",
              "  </svg>\n",
              "      </button>\n",
              "      \n",
              "  <style>\n",
              "    .colab-df-container {\n",
              "      display:flex;\n",
              "      flex-wrap:wrap;\n",
              "      gap: 12px;\n",
              "    }\n",
              "\n",
              "    .colab-df-convert {\n",
              "      background-color: #E8F0FE;\n",
              "      border: none;\n",
              "      border-radius: 50%;\n",
              "      cursor: pointer;\n",
              "      display: none;\n",
              "      fill: #1967D2;\n",
              "      height: 32px;\n",
              "      padding: 0 0 0 0;\n",
              "      width: 32px;\n",
              "    }\n",
              "\n",
              "    .colab-df-convert:hover {\n",
              "      background-color: #E2EBFA;\n",
              "      box-shadow: 0px 1px 2px rgba(60, 64, 67, 0.3), 0px 1px 3px 1px rgba(60, 64, 67, 0.15);\n",
              "      fill: #174EA6;\n",
              "    }\n",
              "\n",
              "    [theme=dark] .colab-df-convert {\n",
              "      background-color: #3B4455;\n",
              "      fill: #D2E3FC;\n",
              "    }\n",
              "\n",
              "    [theme=dark] .colab-df-convert:hover {\n",
              "      background-color: #434B5C;\n",
              "      box-shadow: 0px 1px 3px 1px rgba(0, 0, 0, 0.15);\n",
              "      filter: drop-shadow(0px 1px 2px rgba(0, 0, 0, 0.3));\n",
              "      fill: #FFFFFF;\n",
              "    }\n",
              "  </style>\n",
              "\n",
              "      <script>\n",
              "        const buttonEl =\n",
              "          document.querySelector('#df-e1841f7f-cced-4697-82f0-efe872a6d045 button.colab-df-convert');\n",
              "        buttonEl.style.display =\n",
              "          google.colab.kernel.accessAllowed ? 'block' : 'none';\n",
              "\n",
              "        async function convertToInteractive(key) {\n",
              "          const element = document.querySelector('#df-e1841f7f-cced-4697-82f0-efe872a6d045');\n",
              "          const dataTable =\n",
              "            await google.colab.kernel.invokeFunction('convertToInteractive',\n",
              "                                                     [key], {});\n",
              "          if (!dataTable) return;\n",
              "\n",
              "          const docLinkHtml = 'Like what you see? Visit the ' +\n",
              "            '<a target=\"_blank\" href=https://colab.research.google.com/notebooks/data_table.ipynb>data table notebook</a>'\n",
              "            + ' to learn more about interactive tables.';\n",
              "          element.innerHTML = '';\n",
              "          dataTable['output_type'] = 'display_data';\n",
              "          await google.colab.output.renderOutput(dataTable, element);\n",
              "          const docLink = document.createElement('div');\n",
              "          docLink.innerHTML = docLinkHtml;\n",
              "          element.appendChild(docLink);\n",
              "        }\n",
              "      </script>\n",
              "    </div>\n",
              "  </div>\n",
              "  "
            ]
          },
          "metadata": {},
          "execution_count": 21
        }
      ],
      "source": [
        "data.sample(10)"
      ]
    },
    {
      "cell_type": "markdown",
      "metadata": {
        "id": "t1zIwJnySJEy"
      },
      "source": [
        "2. Investigate the dataset for missing or problematic data."
      ]
    },
    {
      "cell_type": "code",
      "execution_count": null,
      "metadata": {
        "colab": {
          "base_uri": "https://localhost:8080/"
        },
        "id": "dRb_f7OySJE1",
        "outputId": "fbe8ee2b-c04b-4897-c9ec-e72998a7ae52"
      },
      "outputs": [
        {
          "output_type": "stream",
          "name": "stdout",
          "text": [
            "<class 'pandas.core.frame.DataFrame'>\n",
            "RangeIndex: 12684 entries, 0 to 12683\n",
            "Data columns (total 26 columns):\n",
            " #   Column                Non-Null Count  Dtype \n",
            "---  ------                --------------  ----- \n",
            " 0   destination           12684 non-null  object\n",
            " 1   passanger             12684 non-null  object\n",
            " 2   weather               12684 non-null  object\n",
            " 3   temperature           12684 non-null  int64 \n",
            " 4   time                  12684 non-null  object\n",
            " 5   coupon                12684 non-null  object\n",
            " 6   expiration            12684 non-null  object\n",
            " 7   gender                12684 non-null  object\n",
            " 8   age                   12684 non-null  object\n",
            " 9   maritalStatus         12684 non-null  object\n",
            " 10  has_children          12684 non-null  int64 \n",
            " 11  education             12684 non-null  object\n",
            " 12  occupation            12684 non-null  object\n",
            " 13  income                12684 non-null  object\n",
            " 14  car                   108 non-null    object\n",
            " 15  Bar                   12577 non-null  object\n",
            " 16  CoffeeHouse           12467 non-null  object\n",
            " 17  CarryAway             12533 non-null  object\n",
            " 18  RestaurantLessThan20  12554 non-null  object\n",
            " 19  Restaurant20To50      12495 non-null  object\n",
            " 20  toCoupon_GEQ5min      12684 non-null  int64 \n",
            " 21  toCoupon_GEQ15min     12684 non-null  int64 \n",
            " 22  toCoupon_GEQ25min     12684 non-null  int64 \n",
            " 23  direction_same        12684 non-null  int64 \n",
            " 24  direction_opp         12684 non-null  int64 \n",
            " 25  Y                     12684 non-null  int64 \n",
            "dtypes: int64(8), object(18)\n",
            "memory usage: 2.5+ MB\n",
            "less1    3385\n",
            "1~3      3225\n",
            "never    2962\n",
            "4~8      1784\n",
            "gt8      1111\n",
            "Name: CoffeeHouse, dtype: int64\n",
            "less1    6077\n",
            "1~3      3290\n",
            "never    2136\n",
            "4~8       728\n",
            "gt8       264\n",
            "Name: Restaurant20To50, dtype: int64\n",
            "1~3      4672\n",
            "4~8      4258\n",
            "less1    1856\n",
            "gt8      1594\n",
            "never     153\n",
            "Name: CarryAway, dtype: int64\n",
            "never    5197\n",
            "less1    3482\n",
            "1~3      2473\n",
            "4~8      1076\n",
            "gt8       349\n",
            "Name: Bar, dtype: int64\n"
          ]
        }
      ],
      "source": [
        "data.info()\n",
        "print(data.CoffeeHouse.value_counts())\n",
        "print(data.Restaurant20To50.value_counts())\n",
        "print(data.CarryAway.value_counts())\n",
        "print(data.Bar.value_counts())"
      ]
    },
    {
      "cell_type": "markdown",
      "metadata": {
        "id": "tVkXdUh2SJE5"
      },
      "source": [
        "3. Decide what to do about your missing data -- drop, replace, other..."
      ]
    },
    {
      "cell_type": "code",
      "execution_count": null,
      "metadata": {
        "colab": {
          "base_uri": "https://localhost:8080/"
        },
        "id": "AK0486w3SJE8",
        "outputId": "ea430d1f-e6dc-493c-c826-d05185a142c8"
      },
      "outputs": [
        {
          "output_type": "stream",
          "name": "stdout",
          "text": [
            "After replacing nulls with 'never' in select columns, we have discarded\n",
            "0 rows, and 1 column\n"
          ]
        }
      ],
      "source": [
        "# Drop the 'car' column; it is not documented and contains many null entries\n",
        "d = data.drop(axis=1, columns='car')\n",
        "\n",
        "# Replace nulls with \"never\" in the columns  Bar, CoffeeHouse, \n",
        "# CarryAway, RestaurantLessThan20, Restaurant20To50   \n",
        "for col in ['Bar', 'CoffeeHouse', 'CarryAway', 'RestaurantLessThan20', 'Restaurant20To50']:\n",
        "  d[col].fillna('never', inplace=True)\n",
        "\n",
        "# Now discard all na\n",
        "d = d.dropna()\n",
        "\n",
        "print(\"After replacing nulls with 'never' in select columns, we have discarded\")\n",
        "discarded = len(data) - len(d)\n",
        "print(\"%d rows, and 1 column\"%(discarded))\n",
        "  "
      ]
    },
    {
      "cell_type": "markdown",
      "metadata": {
        "id": "kAQdacvQSJE_"
      },
      "source": [
        "4. What proportion of the total observations chose to accept the coupon? \n",
        "\n"
      ]
    },
    {
      "cell_type": "code",
      "execution_count": null,
      "metadata": {
        "colab": {
          "base_uri": "https://localhost:8080/"
        },
        "id": "Ijw1huHXSJFC",
        "outputId": "a118412f-bb81-4c27-fb85-b3182b7814af"
      },
      "outputs": [
        {
          "output_type": "stream",
          "name": "stdout",
          "text": [
            "7210 users (56.84%) accepted the coupon\n"
          ]
        }
      ],
      "source": [
        "counts = d.Y.value_counts()\n",
        "def accept_rate(d):\n",
        "  s = d.Y.value_counts()\n",
        "  return s[1] / (s[0] + s[1])\n",
        "\n",
        "def accept_rate_percent(d):\n",
        "  '''Return a prettified string showing accept rate as a percentage'''\n",
        "  return '%.2f%%' % (100 * accept_rate(d))\n",
        "\n",
        "print(f'{counts[1]} users ({accept_rate_percent(d)}) accepted the coupon')"
      ]
    },
    {
      "cell_type": "markdown",
      "metadata": {
        "id": "uGEqRrSpSJFE"
      },
      "source": [
        "5. Use a bar plot to visualize the `coupon` column."
      ]
    },
    {
      "cell_type": "code",
      "execution_count": null,
      "metadata": {
        "colab": {
          "base_uri": "https://localhost:8080/",
          "height": 404
        },
        "id": "oeIn5IGQSJFH",
        "outputId": "097ff074-39eb-455a-ddac-3ea5b79603f0"
      },
      "outputs": [
        {
          "output_type": "stream",
          "name": "stdout",
          "text": [
            "Coffee House             3996\n",
            "Restaurant(<20)          2786\n",
            "Carry out & Take away    2393\n",
            "Bar                      2017\n",
            "Restaurant(20-50)        1492\n",
            "Name: coupon, dtype: int64\n"
          ]
        },
        {
          "output_type": "execute_result",
          "data": {
            "text/plain": [
              "<matplotlib.axes._subplots.AxesSubplot at 0x7fe97b3f2190>"
            ]
          },
          "metadata": {},
          "execution_count": 26
        },
        {
          "output_type": "display_data",
          "data": {
            "text/plain": [
              "<Figure size 432x288 with 1 Axes>"
            ],
            "image/png": "[encoded data removed]"
          },
          "metadata": {
            "needs_background": "light"
          }
        }
      ],
      "source": [
        "\n",
        "print(d.coupon.value_counts())\n",
        "sns.countplot(data=d, x='coupon')"
      ]
    },
    {
      "cell_type": "markdown",
      "metadata": {
        "id": "HNzWWsLTSJFI"
      },
      "source": [
        "6. Use a histogram to visualize the temperature column."
      ]
    },
    {
      "cell_type": "code",
      "execution_count": null,
      "metadata": {
        "colab": {
          "base_uri": "https://localhost:8080/",
          "height": 297
        },
        "id": "VCB_1_6FSJFM",
        "outputId": "066b02df-c0f8-4b16-8634-2b1fddf3b61c"
      },
      "outputs": [
        {
          "output_type": "execute_result",
          "data": {
            "text/plain": [
              "<matplotlib.axes._subplots.AxesSubplot at 0x7fe979fc65b0>"
            ]
          },
          "metadata": {},
          "execution_count": 27
        },
        {
          "output_type": "display_data",
          "data": {
            "text/plain": [
              "<Figure size 432x288 with 1 Axes>"
            ],
            "image/png": "[encoded data removed]"
          },
          "metadata": {
            "needs_background": "light"
          }
        }
      ],
      "source": [
        "sns.histplot(d, x='temperature')"
      ]
    },
    {
      "cell_type": "markdown",
      "metadata": {
        "id": "w0TX1vS6SJFW"
      },
      "source": [
        "**Investigating the Bar Coupons**\n",
        "\n",
        "Now, we will lead you through an exploration of just the bar related coupons.  \n",
        "\n",
        "1. Create a new `DataFrame` that contains just the bar coupons.\n"
      ]
    },
    {
      "cell_type": "code",
      "execution_count": null,
      "metadata": {
        "id": "OjHUwXTISJFY"
      },
      "outputs": [],
      "source": [
        "b = d.loc[d['coupon'] == 'Bar']"
      ]
    },
    {
      "cell_type": "markdown",
      "metadata": {
        "id": "mKnj3UK6SJFa"
      },
      "source": [
        "2. What proportion of bar coupons were accepted?\n"
      ]
    },
    {
      "cell_type": "code",
      "execution_count": null,
      "metadata": {
        "colab": {
          "base_uri": "https://localhost:8080/"
        },
        "id": "oGQdWyPjSJFc",
        "outputId": "8b895bb2-f73c-4a0d-b6ec-d2d60a105f90"
      },
      "outputs": [
        {
          "output_type": "stream",
          "name": "stdout",
          "text": [
            "41.00% of the bar coupons were accepted\n"
          ]
        }
      ],
      "source": [
        "\n",
        "print(f'{accept_rate_percent(b)} of the bar coupons were accepted')  # 41%\n",
        "\n"
      ]
    },
    {
      "cell_type": "markdown",
      "metadata": {
        "id": "jJ-JFm77SJFd"
      },
      "source": [
        "3. Compare the acceptance rate between those who went to a bar 3 or fewer times a month to those who went more.\n"
      ]
    },
    {
      "cell_type": "code",
      "execution_count": null,
      "metadata": {
        "colab": {
          "base_uri": "https://localhost:8080/"
        },
        "id": "SGYXZbf6SJFf",
        "outputId": "e14a408b-8d43-46c8-a931-b748797e8ac9"
      },
      "outputs": [
        {
          "output_type": "stream",
          "name": "stdout",
          "text": [
            "Accept rate for those who visited a bar fewer than 3 times a month: 37.07%\n",
            "Accept rate for those who visited a bar more than 3 times a month: 76.88%\n"
          ]
        }
      ],
      "source": [
        "b3f = b.loc[b['Bar'].isin(['never', '1~3', 'less1'])]\n",
        "b3m = b.loc[b['Bar'].isin(['gt8', '4~8'])]  \n",
        "\n",
        "\n",
        "print(f'Accept rate for those who visited a bar fewer than 3 times a month: {accept_rate_percent(b3f)}')  # 37%\n",
        "print(f'Accept rate for those who visited a bar more than 3 times a month: {accept_rate_percent(b3m)}')  # 77%"
      ]
    },
    {
      "cell_type": "markdown",
      "metadata": {
        "id": "NrWE-dkiSJFh"
      },
      "source": [
        "4. Compare the acceptance rate between drivers who go to a bar more than once a month and are over the age of 25 to the all others.  Is there a difference?\n"
      ]
    },
    {
      "cell_type": "code",
      "execution_count": null,
      "metadata": {
        "colab": {
          "base_uri": "https://localhost:8080/"
        },
        "id": "cqtykM0HSJFj",
        "outputId": "0b7a5f7c-1e1f-4446-805b-affcb14d7835"
      },
      "outputs": [
        {
          "output_type": "stream",
          "name": "stdout",
          "text": [
            "accept rate for drivers over the age of 25 who visit a bar at least once a month: 69.52%\n"
          ]
        }
      ],
      "source": [
        "t = b.loc[~b['Bar'].isin(['less1', 'never'])]\n",
        "a = t.loc[~t['age'].isin(['21', 'below21'])]\n",
        "\n",
        "print(f'accept rate for drivers over the age of 25 who visit a bar at least once a month:', end=' ')\n",
        "print(f'{accept_rate_percent(a)}')"
      ]
    },
    {
      "cell_type": "markdown",
      "metadata": {
        "id": "a9a_opMwSJFk"
      },
      "source": [
        "5. Use the same process to compare the acceptance rate between drivers who go to bars more than once a month and had passengers that were not a kid and had occupations other than farming, fishing, or forestry. \n"
      ]
    },
    {
      "cell_type": "code",
      "execution_count": null,
      "metadata": {
        "colab": {
          "base_uri": "https://localhost:8080/"
        },
        "id": "mGPgQAAjSJFn",
        "outputId": "34a824ee-0d0b-4893-e72e-d31336ceebe2"
      },
      "outputs": [
        {
          "output_type": "stream",
          "name": "stdout",
          "text": [
            "The acceptance rate for drivers who visit bars with passengers that are not kids\n",
            "and whose occupation is not farming, fishing, or forestry: 71.32%\n"
          ]
        }
      ],
      "source": [
        "a = t.loc[(t.passanger != 'Kid(s)') & (t.occupation != 'Farming Fishing & Forestry')]\n",
        "\n",
        "print('The acceptance rate for drivers who visit bars with passengers that are not kids')\n",
        "print(f'and whose occupation is not farming, fishing, or forestry: {accept_rate_percent(a)}')"
      ]
    },
    {
      "cell_type": "markdown",
      "metadata": {
        "id": "d_XNhuyoSJFp"
      },
      "source": [
        "6. Compare the acceptance rates between those drivers who:\n",
        "\n",
        "- go to bars more than once a month, had passengers that were not a kid, and were not widowed *OR*\n",
        "- go to bars more than once a month and are under the age of 30 *OR*\n",
        "- go to cheap restaurants more than 4 times a month and income is less than 50K. \n",
        "\n"
      ]
    },
    {
      "cell_type": "code",
      "execution_count": null,
      "metadata": {
        "colab": {
          "base_uri": "https://localhost:8080/"
        },
        "id": "V2zxZd_DSJFs",
        "outputId": "57a4462e-bbc1-4036-d5a6-cfcb2181dae0"
      },
      "outputs": [
        {
          "output_type": "stream",
          "name": "stdout",
          "text": [
            "Acceptence rate for bar goers with non child passengers that are not widowed 0.7132486388384754\n",
            "Acceptance rate for bar goers under age 30: 0.7217391304347827\n",
            "Acceptance rate for visitors to cheap resaurants with income < 50K: 60.07%\n"
          ]
        }
      ],
      "source": [
        "\n",
        "a = t.loc[(t.passanger != 'Kid(s)') & (t.maritalStatus != 'Widowed')]\n",
        "print(f'Acceptence rate for bar goers with non child passengers that are not widowed {accept_rate(a)}')\n",
        "\n",
        "a = t.loc[(t.age == 'below21') | (t.age == '21') | (t.age == '26')]\n",
        "\n",
        "print(f'Acceptance rate for bar goers under age 30: {accept_rate(a)}')\n",
        "\n",
        "\n",
        "a = d.loc[\n",
        "        data.RestaurantLessThan20.isin(['4~8','gt8']) & \n",
        "        data.income.isin(['Less than $12500', '$25000 - $37499','$12500 - $24999', '$37500 - $49999'])\n",
        "]\n",
        "\n",
        "\n",
        "print(f'Acceptance rate for visitors to cheap resaurants with income < 50K: {accept_rate_percent(a)}')\n"
      ]
    },
    {
      "cell_type": "markdown",
      "metadata": {
        "id": "MZxw76-qSJFt"
      },
      "source": [
        "7.  Based on these observations, what do you hypothesize about drivers who accepted the bar coupons?\n",
        "\n",
        "Young drivers without children are far more likely to accept the coupon!"
      ]
    },
    {
      "cell_type": "markdown",
      "metadata": {
        "id": "cCSJaiOSSJFz"
      },
      "source": [
        "### Independent Investigation\n",
        "\n",
        "Using the bar coupon example as motivation, you are to explore one of the other coupon groups and try to determine the characteristics of passengers who accept the coupons.  "
      ]
    },
    {
      "cell_type": "code",
      "execution_count": null,
      "metadata": {
        "id": "f92XcF0oSJF1",
        "colab": {
          "base_uri": "https://localhost:8080/"
        },
        "outputId": "662f4a45-d594-4cc2-e684-ccfefa13f8f8"
      },
      "outputs": [
        {
          "output_type": "stream",
          "name": "stdout",
          "text": [
            "coupon_Carry out & Take away    1.388772\n",
            "coupon_Restaurant(<20)          1.335676\n",
            "weather_Sunny                   1.273867\n",
            "passanger_Friend(s)             1.266966\n",
            "education_Some High School      1.261731\n",
            "dtype: float64\n",
            "...\n",
            "weather_Rainy               0.798538\n",
            "expiration_2h               0.792825\n",
            "CoffeeHouse_never           0.767024\n",
            "coupon_Restaurant(20-50)    0.753340\n",
            "coupon_Bar                  0.685200\n",
            "dtype: float64\n"
          ]
        }
      ],
      "source": [
        "\n",
        "accept_rates = pd.Series(dtype=float)\n",
        "x = d\n",
        "def compute_ratio(s):\n",
        "  '''Compute the ratio of acceptance rate for rows that match a filter\n",
        "  vs. those that do not from the dataFrame specified in the global x'''\n",
        "  global x\n",
        "  a = accept_rate(x.loc[s])\n",
        "  b = accept_rate(x.loc[~s])\n",
        "  return a/b\n",
        "  \n",
        "accept_rates['alone-partnered'] = compute_ratio(x.passanger.isin(['Alone', 'Partner']))\n",
        "accept_rates['alone'] = compute_ratio(x.passanger.isin(['Alone']))\n",
        "\n",
        "for col in x.columns:\n",
        "    for c in x[col].unique():\n",
        "        try:\n",
        "            accept_rates['_'.join((col, c))] = compute_ratio(x[col].isin([c]))\n",
        "        except (TypeError, KeyError):\n",
        "            pass\n",
        "\n",
        "\n",
        "print(accept_rates.sort_values(ascending=False).head(5))\n",
        "print('...')\n",
        "print(accept_rates.sort_values(ascending=False).tail(5))"
      ]
    },
    {
      "cell_type": "markdown",
      "source": [
        "From the above, we see that 'Carry out & Take away' coupons are the most likely to be accepted, while `Bar` coupons are least likely.  Coupons at cheap restaurants are likely to be used, and soon to expire coupons are also likely to be used.  When the weather is sunny, coupons are more likely to be used."
      ],
      "metadata": {
        "id": "m7WrhlbBKahh"
      }
    }
  ],
  "metadata": {
    "colab": {
      "provenance": [],
      "toc_visible": true
    },
    "kernelspec": {
      "display_name": "Python 3",
      "language": "python",
      "name": "python3"
    },
    "language_info": {
      "codemirror_mode": {
        "name": "ipython",
        "version": 3
      },
      "file_extension": ".py",
      "mimetype": "text/x-python",
      "name": "python",
      "nbconvert_exporter": "python",
      "pygments_lexer": "ipython3",
      "version": "3.8.8"
    }
  },
  "nbformat": 4,
  "nbformat_minor": 0
}