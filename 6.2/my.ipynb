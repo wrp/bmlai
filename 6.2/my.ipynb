

Problem 1
Problem 2
Problem 3
Problem 4
Problem 5
from scipy.linalg import svd
import numpy as np
import pandas as pd
import matplotlib.pyplot as plt
import seaborn as sns
from sklearn.datasets import fetch_olivetti_faces, fetch_california_housing
The Datasets
Both datasets are built in to the sklearn library. The first is a familiar set of faces as 1-Dimensional Arrays, and the second is a dataset on housing prices in california neighborhoods. The image data is limited to a single image and assigned to the variable image below. The housing data is displayed as a DataFrame with the .frame attribute after setting as_frame = True.

faces_data = pd.read_csv('data/faces.csv')
cali_housing = fetch_california_housing(return_X_y=False, as_frame=True, data_home='data')
image = faces_data.iloc[4].values.reshape(64, 64)
plt.imshow(image)
<matplotlib.image.AxesImage at 0x7f8cf21c1390>

df = cali_housing.frame.head(50)
df.head()
MedInc	HouseAge	AveRooms	AveBedrms	Population	AveOccup	Latitude	Longitude	MedHouseVal
0	8.3252	41.0	6.984127	1.023810	322.0	2.555556	37.88	-122.23	4.526
1	8.3014	21.0	6.238137	0.971880	2401.0	2.109842	37.86	-122.22	3.585
2	7.2574	52.0	8.288136	1.073446	496.0	2.802260	37.85	-122.24	3.521
3	5.6431	52.0	5.817352	1.073059	558.0	2.547945	37.85	-122.25	3.413
4	3.8462	52.0	6.281853	1.081081	565.0	2.181467	37.85	-122.25	3.422
Principal Component Analysis
Recall the steps to perform Principal Component Analysis on an array.

- standardize the data
- perform SVD
- select how many components to keep
From here, depending on the goal you will either eliminate all but the top r values in Σ or evaluate the product of 𝑈𝑟Σ˙𝑟.

Back to top

Problem 1
Function to Standardize and Factor
4 Points

Complete the function svd_norm below. This function takes in an array, scales the values, and returns three arrays as a result of the singular value decomposition on the scaled array, 𝑈,Σ,𝑉𝑇.

Student's answer(Top)
### GRADED

def svd_norm(X):
    """This function takes in an array X, scales it according
    to the transformation X - mu / sigma where mu is the mean
    and sigma the standard deviation of the dataset.

    Parameters
    ----------
    X: type `np.array`, shape (N, M)

    Returns
    -------
    A tuple (U, Sigma, VT) where
        U: type `np.ndarray`, shape (N, M)
            Numpy arrays with N rows, M columns
        Sigma: type `np.ndarray`, shape (M, M)
            Numpy arrays with M rows and M columns
            A Diagonal matrix with the singular values on main diagonal
        VT: type `np.ndarray`, shape (M, M)
            Numpy array with M rows and M columns representing V Transpose
    """
    mu = X.mean()
    sigma = X.std()
    X = (X - mu)/sigma
    U, s, Vt = svd(X, full_matrices=False)
    Sigma = np.diag(s)
    return (U, Sigma, Vt)

# Answer check
U, Sigma, VT = svd_norm(image)
print(U.shape, Sigma.shape, VT.shape)
(64, 64) (64, 64) (64, 64)
Grade cell: cell-d7dda51e78f7e1b8Score: 4.0 / 4.0 (Top)
### BEGIN HIDDEN TESTS
def svd_norm_(X):
    x_norm =( X - X.mean())/X.std()
    U, sigma, VT = svd(x_norm, full_matrices=False)
    Sigma = np.diag(sigma)
    return U, Sigma, VT
#
#
#
for i in range(5): #test for 10 random images
    X = faces_data.iloc[np.random.randint(0, 10)].values.reshape(64, 64)
    U_, Sigma_, VT_ = svd_norm_(X)
    U, Sigma, VT = svd_norm(X)
    assert np.allclose(U, U_)
    assert np.allclose(Sigma, Sigma_)
    assert np.allclose(VT, VT_)
### END HIDDEN TESTS
Back to top

Problem 2
Reconstructing the Image
4 Points

Below, create a copy of the Σ matrix with np.copy and assign it to Sigma_copy below. Set all but the first 25 singular values to zero. Reconstruct the original image by multiplying 𝑈Σ𝑐𝑜𝑝𝑦𝑉𝑇 and assign to simpler_image. Note how much information from the image is captured in the first five singular values!

Student's answer(Top)
### GRADED

Sigma_copy = np.copy(Sigma)
Sigma_copy[25:] = 0
simpler_image = U @ Sigma_copy @ VT

# YOUR CODE HERE


# Answer check
print(simpler_image.shape)
plt.imshow(simpler_image)
plt.title('Image Reconstructed from first 5 Singular Values');
(64, 64)

Grade cell: cell-67ba50a3b8f68ff3Score: 0.0 / 4.0 (Top)
### BEGIN HIDDEN TESTS
def svd_norm_(X):
    x_norm =( X - X.mean())/X.std()
    U, sigma, VT = svd(x_norm, full_matrices=False)
    Sigma = np.diag(sigma)
    return U, Sigma, VT
U_, Sigma_, VT_ = svd_norm_(image)
Sigma_copy_ = np.copy(Sigma_)
Sigma_copy_[5:, 5:] = 0
simpler_image_ = U_@Sigma_copy_@VT_
#
#
#
assert np.allclose(simpler_image, simpler_image_)
assert np.allclose(Sigma_copy, Sigma_copy_)
### END HIDDEN TESTS
---------------------------------------------------------------------------
AssertionError                            Traceback (most recent call last)
<ipython-input-8-f44e3e190430> in <module>()
     12 #
     13 #
---> 14 assert np.allclose(simpler_image, simpler_image_)
     15 assert np.allclose(Sigma_copy, Sigma_copy_)
     16 ### END HIDDEN TESTS

AssertionError:
Back to top

Problem 3
Repeat for Tabular Data
4 Points

As the example above demonstrates, using Principal Component Analysis is a way of extracting important information from the data through the SVD. Now, you are to extract the matrix factorization from the SVD using the housing data df. The earlier svd_norm function should work to factor a DataFrame. Use your function to extract 𝑈,Σ,𝑉𝑇 from the DataFrame. Assign your results to U, Sigma, VT below.

Student's answer(Top)
### GRADED

U, Sigma, VT = svd_norm(df)

# YOUR CODE HERE


# Answer check
print(type(U))
print(df.shape, Sigma.shape)
<class 'numpy.ndarray'>
(50, 9) (9, 9)
Grade cell: cell-5288af8314b484bdScore: 4.0 / 4.0 (Top)
### BEGIN HIDDEN TESTS
def svd_norm_(X):
    x_norm =( X - X.mean())/X.std()
    U, sigma, VT = svd(x_norm, full_matrices=False)
    Sigma = np.diag(sigma)
    return U, Sigma, VT
U_, Sigma_, VT_ = svd_norm_(df)

#
#
#
assert type(Sigma_) == type(Sigma)
assert np.allclose(Sigma, Sigma_)
### END HIDDEN TESTS
Back to top

Problem 4
Function to project into lower dimension r
4 Points

Complete the function pca below. This function takes two arguments, X and r where X is an array or DataFrame and r is dimension to project the data down into. The function should return a DataFrame with columns labeled ['pca_1', 'pca_2', ..., 'pca_r'].

Student's answer(Top)
### GRADED

def pca(X, r = 5):
    """This function takes in an array X, and extracts
    r principal components.  These are returned in a DataFrame.

    Parameters
    ----------
    X: type `np.array`, shape (N, M)
    r: type `int`

    Returns
    -------
    A DataFrame of shape (N, r) with columns labeled
    pca_1. | pca_2 | .... | pca_r |

    """


    # YOUR CODE HERE
    mu = X.mean()
    sigma = X.std()
    Xnorm = (X - mu)/sigma
    # Xr = X[:, :r]
    U, s, Vt = svd(Xnorm, full_matrices=False)
    Ur = U[:, :r]
    Sigma = np.diag(s[:r])

    names = []
    for i in range(r):
        names.append('pca_{}'.format(i + 1))

    return pd.DataFrame(Ur @ Sigma, columns=names)

# Answer check
XT = pca(df, r = 2)
print(XT.shape)
XT.head()
(50, 2)
pca_1	pca_2
0	-6.733861	1.878247
1	-6.997582	-3.186467
2	-4.629262	2.940347
3	-2.755903	1.310675
4	-2.389522	0.580863
Grade cell: cell-d805d76576ab447bScore: 4.0 / 4.0 (Top)
### BEGIN HIDDEN TESTS
cali_housing_ = fetch_california_housing(return_X_y=False, as_frame=True, data_home='data')
df_ = cali_housing_.frame.head(50)
def pca_(X, r = 5):
    x_norm =( X - X.mean())/X.std()
    U, sigma, VT = svd(x_norm, full_matrices=False)
    Sigma = np.diag(sigma)
    Ur = U[:, :r]
    Sigma_r = Sigma[:r, :r]
    return pd.DataFrame(Ur @ Sigma_r, columns = [f'pca_{i}' for i in range(1, r + 1)])


#
#
#

ans = pca(df_, r = 2)
ans_ = pca_(df_, r = 2)
pd.testing.assert_frame_equal(ans, ans_)
### END HIDDEN TESTS
Back to top

Problem 5
Converting a New Datapoint
4 Points

Suppose we have a new house given by the DataFrame below:

MedInc	HouseAge	AveRooms	AveBedrms	Population	AveOccup	Latitude	Longitude	MedHouseVal
0	3.87	28.64	5.43	1.1	1425.48	3.07	35.63	-119.57	2.07
Use your pca function to project this new house into 2 dimensions. First, scale your data according to the mean and standard deviation of df. Assign the normalized data to normed_newhome below. Assign the results of the pca transformation on the scaled house data as a DataFrame with columns pca_1 and pca_2 to ans5 below.

Student's answer(Top)
### GRADED
newhome = pd.DataFrame([[3.87, 28.64, 5.43, 1.1, 1425.48, 3.07, 35.63, -119.57, 2.07]], columns = df.columns)


r=2

normed_newhome = (newhome - df.mean())/df.std()
ans5 = normed_newhome@VT.T[:, :r]
# ans5.rename(columns = {1: 'pca_1',2:'pca_2'})
ans5.columns = ['pca_1', 'pca_2']
# YOUR CODE HERE


# Answer check
print(ans5.shape)
print(type(ans5))
ans5
(1, 2)
<class 'pandas.core.frame.DataFrame'>
pca_1	pca_2
0	-18.728782	-88.013992
Grade cell: cell-043fab3e24fdeaafScore: 4.0 / 4.0 (Top)
### BEGIN HIDDEN TESTS
newhome_ = pd.DataFrame([[3.87, 28.64, 5.43, 1.1, 1425.48, 3.07, 35.63, -119.57, 2.07]], columns = df.columns)
normed_newhome_ = (newhome_ - df_.mean())/df_.std()
def svd_norm_(X):
    x_norm =( X - X.mean())/X.std()
    U, sigma, VT = svd(x_norm, full_matrices=False)
    Sigma = np.diag(sigma)
    return U, Sigma, VT
U_, Sigma_, VT_ = svd_norm_(df_)
ans5_ = normed_newhome_@VT_.T[:, :2]#pd.DataFrame(normed_newhome@VT.T[:, :2], columns = ['pca_1', 'pca_2'])
ans5_.columns = ['pca_1', 'pca_2']


#
#
#
pd.testing.assert_frame_equal(ans5, ans5_)
### END HIDDEN TESTS
Both of these examples offer insight to how PCA can reduce the dimensionality of your data while keeping important information about underlying relationships in tact.
